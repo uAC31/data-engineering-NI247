{
 "cells": [
  {
   "cell_type": "markdown",
   "id": "b5369b8f-c6f0-4133-9535-654002789cc8",
   "metadata": {},
   "source": [
    "## hw3 : Carly's Clippers"
   ]
  },
  {
   "cell_type": "code",
   "execution_count": 1,
   "id": "5235dd14-8898-4494-a4aa-3ee31b8cbf46",
   "metadata": {},
   "outputs": [],
   "source": [
    "import numpy as np"
   ]
  },
  {
   "cell_type": "code",
   "execution_count": 13,
   "id": "cbd2bb6d-a613-4980-bf49-1be6231c89ef",
   "metadata": {},
   "outputs": [],
   "source": [
    "hairstyles = [\"bouffant\", \"pixie\", \"dreadlocks\", \"crew\", \"bowl\", \"bob\", \"mohawk\", \"flattop\"]\n",
    "prices = [30,25,40,20,20,35,50,35]\n",
    "last_week = [2, 3, 5, 8, 4, 4, 6, 2]"
   ]
  },
  {
   "cell_type": "code",
   "execution_count": 14,
   "id": "41bb7dcf-13ad-43bd-83ae-abaf02b6900a",
   "metadata": {},
   "outputs": [
    {
     "data": {
      "text/plain": [
       "255"
      ]
     },
     "execution_count": 14,
     "metadata": {},
     "output_type": "execute_result"
    }
   ],
   "source": [
    "total_price = 0\n",
    "for i in range(0,len(prices)):\n",
    "    total_price += prices[i]\n",
    "\n",
    "total_price"
   ]
  },
  {
   "cell_type": "code",
   "execution_count": 15,
   "id": "7187eb52-d18d-400d-9b9a-5ae5fb7adeae",
   "metadata": {},
   "outputs": [
    {
     "data": {
      "text/plain": [
       "31.875"
      ]
     },
     "execution_count": 15,
     "metadata": {},
     "output_type": "execute_result"
    }
   ],
   "source": [
    "average_price = total_price/len(prices)\n",
    "average_price"
   ]
  },
  {
   "cell_type": "code",
   "execution_count": 16,
   "id": "59d2d750-230f-4e07-8908-45c2e2fe3dac",
   "metadata": {},
   "outputs": [
    {
     "data": {
      "text/plain": [
       "array([25, 20, 35, 15, 15, 30, 45, 30])"
      ]
     },
     "execution_count": 16,
     "metadata": {},
     "output_type": "execute_result"
    }
   ],
   "source": [
    "new_prices = np.subtract(prices,5)\n",
    "new_prices"
   ]
  },
  {
   "cell_type": "code",
   "execution_count": 17,
   "id": "4d2b609a-2103-4a10-a0f1-9c5392521a3c",
   "metadata": {},
   "outputs": [
    {
     "data": {
      "text/plain": [
       "1085"
      ]
     },
     "execution_count": 17,
     "metadata": {},
     "output_type": "execute_result"
    }
   ],
   "source": [
    "total_revenue = 0\n",
    "for i in range(len(hairstyles)):\n",
    "    total_revenue += prices[i] * last_week[i]\n",
    "    \n",
    "total_revenue"
   ]
  },
  {
   "cell_type": "code",
   "execution_count": 18,
   "id": "c3d4ea22-80c5-4034-bad1-e769f9ab1562",
   "metadata": {},
   "outputs": [
    {
     "name": "stdout",
     "output_type": "stream",
     "text": [
      "Average daily revenue is 155.0\n"
     ]
    }
   ],
   "source": [
    "print(\"Average daily revenue is\", total_revenue / 7)"
   ]
  },
  {
   "cell_type": "code",
   "execution_count": 19,
   "id": "08230217-cf8c-43c2-931f-10049660ee6f",
   "metadata": {},
   "outputs": [
    {
     "name": "stdout",
     "output_type": "stream",
     "text": [
      "['bouffant', 'pixie', 'crew', 'bowl']\n"
     ]
    }
   ],
   "source": [
    "cuts_under_30 = [hairstyles[i] for i in range(len(new_prices)) if new_prices[i] < 30]\n",
    "print(cuts_under_30)"
   ]
  },
  {
   "cell_type": "code",
   "execution_count": null,
   "id": "1ef40eb0-cffc-4ac4-92fe-30654ce68f3f",
   "metadata": {},
   "outputs": [],
   "source": []
  }
 ],
 "metadata": {
  "kernelspec": {
   "display_name": "Python 3 (ipykernel)",
   "language": "python",
   "name": "python3"
  },
  "language_info": {
   "codemirror_mode": {
    "name": "ipython",
    "version": 3
   },
   "file_extension": ".py",
   "mimetype": "text/x-python",
   "name": "python",
   "nbconvert_exporter": "python",
   "pygments_lexer": "ipython3",
   "version": "3.9.12"
  }
 },
 "nbformat": 4,
 "nbformat_minor": 5
}
