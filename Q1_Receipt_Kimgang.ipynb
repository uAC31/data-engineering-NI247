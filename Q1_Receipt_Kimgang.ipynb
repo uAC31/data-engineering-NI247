{
 "cells": [
  {
   "cell_type": "code",
   "execution_count": 2,
   "id": "39919f4d-ddc8-4258-a4f6-3f0d80d2a5a7",
   "metadata": {},
   "outputs": [],
   "source": [
    "lovely_loveseat_description = \"Lovely Loveseat. Tufted polyester blend on wood. 32 inches high x 40 inches wide x 30 inches deep. Red or white.\"\n",
    "lovely_loveseat_pirce = 254.00\n",
    "\n",
    "stylish_settee_description = \"Stylish Settee. Faux leather on birch. 29.50 inches high x 54.75 inches wide x 28 inches deep. Black.\"\n",
    "stylish_settee_price = 180.50\n",
    "\n",
    "luxurious_lamp_description = \"Luxurious Lamp. Glass and iron. 36 inches tall. Brown with cream shade.\"\n",
    "luxurious_lamp_price = 52.15\n",
    "\n",
    "sales_tax = .088"
   ]
  },
  {
   "cell_type": "code",
   "execution_count": 10,
   "id": "7f924951-2937-4d0b-b60a-ab4301e537ed",
   "metadata": {},
   "outputs": [],
   "source": [
    "customer_one_total = 0\n",
    "customer_one_itemization = \"\"\n",
    "\n",
    "customer_one_total = lovely_loveseat_pirce\n",
    "customer_one_itemization = lovely_loveseat_description\n",
    "\n",
    "customer_one_total += luxurious_lamp_price\n",
    "customer_one_itemization += luxurious_lamp_description\n",
    "\n",
    "customer_one_tax = sales_tax\n",
    "customer_one_total += customer_one_tax\n"
   ]
  },
  {
   "cell_type": "code",
   "execution_count": 9,
   "id": "f2bb9be1-e3d1-48e5-bd68-fa442d527593",
   "metadata": {},
   "outputs": [
    {
     "name": "stdout",
     "output_type": "stream",
     "text": [
      "Customer One Items : \n",
      "Lovely Loveseat. Tufted polyester blend on wood. 32 inches high x 40 inches wide x 30 inches deep. Red or white.Luxurious Lamp. Glass and iron. 36 inches tall. Brown with cream shade.\n",
      "Customer One Total : \n",
      "306.238\n"
     ]
    }
   ],
   "source": [
    "print(\"Customer One Items : \")\n",
    "print(customer_one_itemization)\n",
    "print(\"Customer One Total : \")\n",
    "print(customer_one_total)"
   ]
  }
 ],
 "metadata": {
  "kernelspec": {
   "display_name": "Python 3 (ipykernel)",
   "language": "python",
   "name": "python3"
  },
  "language_info": {
   "codemirror_mode": {
    "name": "ipython",
    "version": 3
   },
   "file_extension": ".py",
   "mimetype": "text/x-python",
   "name": "python",
   "nbconvert_exporter": "python",
   "pygments_lexer": "ipython3",
   "version": "3.9.12"
  }
 },
 "nbformat": 4,
 "nbformat_minor": 5
}
