{
 "cells": [
  {
   "cell_type": "markdown",
   "id": "d243a697-802f-45fb-9410-3f5e951490c9",
   "metadata": {},
   "source": [
    "## hw4 : 나의 조선시대 이름 찾기"
   ]
  },
  {
   "cell_type": "code",
   "execution_count": 1,
   "id": "16eb49e5-1664-4e6d-84ba-b9732f7cfa4b",
   "metadata": {},
   "outputs": [
    {
     "name": "stdout",
     "output_type": "stream",
     "text": [
      "['쌍', '쇠', '복', '돌', '팽', '육', '쌍', '개', '칠', '갑', '삼', '방'] \n",
      "\n",
      "['봉', '구', '욕', '포', '똥', '삼', '식', '석', '놈', '님', '년', '돌', '단', '득', '방', '질', '장', '걸', '래', '룡', '동', '순', '자', '박', '창', '언', '것', '포', '만', '단', '국'] \n",
      "\n"
     ]
    }
   ],
   "source": [
    "month = ['쌍', '쇠', '복', '돌', '팽', '육', '쌍', '개', '칠', '갑', '삼', '방']\n",
    "print(month,'\\n')\n",
    "\n",
    "day = ['봉', '구', '욕', '포', '똥', '삼', '식', '석', '놈', '님', '년', '돌', '단', '득', '방', '질', '장', '걸', '래', '룡', '동', '순', '자', '박', '창', '언', '것', '포', '만', '단', '국']\n",
    "print(day,'\\n')\n"
   ]
  },
  {
   "cell_type": "code",
   "execution_count": 2,
   "id": "2e158ebd-ef1d-4588-a4e3-3c1f0fed5556",
   "metadata": {},
   "outputs": [
    {
     "name": "stdout",
     "output_type": "stream",
     "text": [
      "당신의 조선시대 이름은 김칠욕입니다\n"
     ]
    }
   ],
   "source": [
    "def get_my_chosun_name(name ,a ,b):\n",
    "    print(\"당신의 조선시대 이름은 \" +name +month[a-1]+day[b-1]+ \"입니다\")\n",
    "get_my_chosun_name(\"김\",9,3)"
   ]
  },
  {
   "cell_type": "code",
   "execution_count": null,
   "id": "faef2adb-7465-4e56-bd93-cbbcd2447f8e",
   "metadata": {},
   "outputs": [],
   "source": []
  }
 ],
 "metadata": {
  "kernelspec": {
   "display_name": "Python 3 (ipykernel)",
   "language": "python",
   "name": "python3"
  },
  "language_info": {
   "codemirror_mode": {
    "name": "ipython",
    "version": 3
   },
   "file_extension": ".py",
   "mimetype": "text/x-python",
   "name": "python",
   "nbconvert_exporter": "python",
   "pygments_lexer": "ipython3",
   "version": "3.9.12"
  }
 },
 "nbformat": 4,
 "nbformat_minor": 5
}
